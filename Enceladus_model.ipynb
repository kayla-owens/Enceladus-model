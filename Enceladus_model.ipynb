{
 "cells": [
  {
   "cell_type": "markdown",
   "metadata": {},
   "source": [
    "# Freezing-Expansion Cracking Model of Enceladus\n",
    "\n",
    "We first assume _radiative equilibrium_ with incoming sunlight, with the distance to Enceladus equal to Saturn's distance. Taking the solar constant at Earth as 1360 W/m^2, we derive the average surface temperature to be 59.1 K."
   ]
  },
  {
   "cell_type": "code",
   "execution_count": 8,
   "metadata": {},
   "outputs": [],
   "source": [
    "# import statements\n",
    "import numpy as np\n",
    "import matplotlib.pyplot as plt"
   ]
  },
  {
   "cell_type": "code",
   "execution_count": 9,
   "metadata": {
    "scrolled": true
   },
   "outputs": [
    {
     "name": "stdout",
     "output_type": "stream",
     "text": [
      "Surface Temperature : 59.1 K\n"
     ]
    }
   ],
   "source": [
    "EncelD = 1.4335e12 # m, Saturn distance\n",
    "EarthD = 1.4854e11 # m, Earth distance\n",
    "SolarC = 1360      # W/m^2, solar constant\n",
    "Albedo = 0.81      # albedo of Enceladus\n",
    "sigma  = 5.670e-8  # W/(m^2*K^4), Stefan-Boltzmann constant\n",
    "\n",
    "# calculate solar constant at Enceladus\n",
    "EncelC = SolarC * (EarthD/EncelD)**2\n",
    "\n",
    "# calculate surface temperature of Enceladus based on Stefan-Boltzmann Law\n",
    "SurfaceT = ((EncelC * (1 - Albedo))/(4 * sigma))**(1./4)\n",
    "\n",
    "print('Surface Temperature : %.1f K' % SurfaceT)"
   ]
  },
  {
   "cell_type": "markdown",
   "metadata": {},
   "source": [
    "Now we assume a 20 km thick ice shell, and a base temperature of the ice which is in equilibrium with the liquid water (273 K). We model a purely _conductive temperature structure_ which is linear."
   ]
  },
  {
   "cell_type": "code",
   "execution_count": 12,
   "metadata": {},
   "outputs": [
    {
     "data": {
      "text/plain": [
       "[<matplotlib.lines.Line2D at 0x112f3cc50>]"
      ]
     },
     "execution_count": 12,
     "metadata": {},
     "output_type": "execute_result"
    },
    {
     "data": {
      "image/png": "[encoded data removed]",
      "text/plain": [
       "<Figure size 432x288 with 1 Axes>"
      ]
     },
     "metadata": {
      "needs_background": "light"
     },
     "output_type": "display_data"
    }
   ],
   "source": [
    "baseT = 273          # K, temperature of ice at base of shell \n",
    "iceThickness = 20000 # m, thickness of ice shell\n",
    "\n",
    "# calculate change in temperature per change in height, assuming conductive structure\n",
    "dTdH = (baseT - SurfaceT) / iceThickness\n",
    "\n",
    "# define a lambda function for the temperature as a function of height\n",
    "T = lambda height : baseT - dTdH * height\n",
    "\n",
    "height_range = np.array([0, 20000])\n",
    "plt.plot(height_range, T(height_range))"
   ]
  },
  {
   "cell_type": "code",
   "execution_count": null,
   "metadata": {},
   "outputs": [],
   "source": []
  }
 ],
 "metadata": {
  "kernelspec": {
   "display_name": "Python 3",
   "language": "python",
   "name": "python3"
  },
  "language_info": {
   "codemirror_mode": {
    "name": "ipython",
    "version": 3
   },
   "file_extension": ".py",
   "mimetype": "text/x-python",
   "name": "python",
   "nbconvert_exporter": "python",
   "pygments_lexer": "ipython3",
   "version": "3.7.4"
  }
 },
 "nbformat": 4,
 "nbformat_minor": 2
}
